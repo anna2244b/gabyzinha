{
  "nbformat": 4,
  "nbformat_minor": 0,
  "metadata": {
    "colab": {
      "name": "Untitled3.ipynb",
      "provenance": [],
      "authorship_tag": "ABX9TyOnxpAQpTrjo89xeDeXJhZv",
      "include_colab_link": true
    },
    "kernelspec": {
      "name": "python3",
      "display_name": "Python 3"
    },
    "language_info": {
      "name": "python"
    }
  },
  "cells": [
    {
      "cell_type": "markdown",
      "metadata": {
        "id": "view-in-github",
        "colab_type": "text"
      },
      "source": [
        "<a href=\"https://colab.research.google.com/github/anna2244b/gabyzinha/blob/main/Untitled3.ipynb\" target=\"_parent\"><img src=\"https://colab.research.google.com/assets/colab-badge.svg\" alt=\"Open In Colab\"/></a>"
      ]
    },
    {
      "cell_type": "code",
      "metadata": {
        "id": "yoZYRJowJqqR"
      },
      "source": [
        "ilha1 = input('Emma - ei, capitão!, Aquilo alí parece uma ilha. devemos parar o navio? sim/não')\n",
        "while True:\n",
        " if ilha1 == 'sim':\n",
        "  print('PIRATAS!. vamos procurar comidas mantimentos armas etc... NÃO SE SEPAREM OK? piratas- SIM SENHOR CAPITÃO!!!!.')\n",
        " else:\n",
        "  print('*tempestade*')\n",
        " from random import randint\n",
        " tempestade = randint(0, 3)\n",
        " if tempestade == '2':\n",
        "   print('Oops! you died.')\n",
        " break"
      ],
      "execution_count": null,
      "outputs": []
    }
  ]
}